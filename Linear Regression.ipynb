{
 "cells": [
  {
   "cell_type": "markdown",
   "id": "dcf2fa77-56d6-42f3-afd0-c42c3b4235bd",
   "metadata": {},
   "source": [
    "## City Event Severity Linear Regression"
   ]
  },
  {
   "cell_type": "markdown",
   "id": "8fa8babe-ffb7-4103-b557-c9aafc9dfdf6",
   "metadata": {},
   "source": [
    "##### Load csv data as pandas dataframe"
   ]
  },
  {
   "cell_type": "code",
   "execution_count": 88,
   "id": "5c66a77d-dcf0-4a71-ae72-d09bde263065",
   "metadata": {},
   "outputs": [
    {
     "name": "stderr",
     "output_type": "stream",
     "text": [
      "C:\\Users\\luisr\\AppData\\Local\\Temp\\ipykernel_27100\\21573363.py:5: DtypeWarning: Columns (13,14) have mixed types. Specify dtype option on import or set low_memory=False.\n",
      "  df = pd.read_csv('../../COR-Flood-Project/Dados/Sistema Comando/comando_history_apiv2_clean.csv')\n"
     ]
    }
   ],
   "source": [
    "import pandas as pd\n",
    "from sklearn.model_selection import train_test_split\n",
    "\n",
    "# Load the dataset\n",
    "df = pd.read_csv('../../COR-Flood-Project/Dados/Sistema Comando/comando_history_apiv2_clean.csv')"
   ]
  },
  {
   "cell_type": "markdown",
   "id": "333c749a-c2f6-4c67-925c-32ceb8a530e9",
   "metadata": {},
   "source": [
    "##### Data types"
   ]
  },
  {
   "cell_type": "code",
   "execution_count": 89,
   "id": "b5ffaf70-3897-40e0-8357-369a6f59bddd",
   "metadata": {},
   "outputs": [
    {
     "name": "stdout",
     "output_type": "stream",
     "text": [
      "<class 'pandas.core.frame.DataFrame'>\n",
      "RangeIndex: 102726 entries, 0 to 102725\n",
      "Data columns (total 16 columns):\n",
      " #   Column      Non-Null Count   Dtype  \n",
      "---  ------      --------------   -----  \n",
      " 0   tipo        102722 non-null  object \n",
      " 1   pop_id      102722 non-null  float64\n",
      " 2   latitude    90787 non-null   float64\n",
      " 3   inicio      102726 non-null  object \n",
      " 4   titulo      102710 non-null  object \n",
      " 5   fim         102726 non-null  object \n",
      " 6   aviso_id    66390 non-null   float64\n",
      " 7   descricao   102660 non-null  object \n",
      " 8   informe_id  102720 non-null  float64\n",
      " 9   gravidade   102712 non-null  object \n",
      " 10  id          102726 non-null  int64  \n",
      " 11  longitude   90811 non-null   float64\n",
      " 12  status      102726 non-null  object \n",
      " 13  bairro      61348 non-null   object \n",
      " 14  prazo       61446 non-null   object \n",
      " 15  pop_titulo  102663 non-null  object \n",
      "dtypes: float64(5), int64(1), object(10)\n",
      "memory usage: 12.5+ MB\n"
     ]
    }
   ],
   "source": [
    "df.info()"
   ]
  },
  {
   "cell_type": "code",
   "execution_count": 106,
   "id": "1d4b8b3f-b605-4661-b100-3dd79b1f42a2",
   "metadata": {},
   "outputs": [
    {
     "name": "stdout",
     "output_type": "stream",
     "text": [
      "<class 'pandas.core.frame.DataFrame'>\n",
      "RangeIndex: 102726 entries, 0 to 102725\n",
      "Data columns (total 13 columns):\n",
      " #   Column              Non-Null Count   Dtype   \n",
      "---  ------              --------------   -----   \n",
      " 0   latitude            102726 non-null  float64 \n",
      " 1   longitude           102726 non-null  float64 \n",
      " 2   duration            102726 non-null  float64 \n",
      " 3   distance_to_center  102726 non-null  float64 \n",
      " 4   gravidade           102726 non-null  int8    \n",
      " 5   tipo                102726 non-null  int8    \n",
      " 6   pop_id              102726 non-null  category\n",
      " 7   aviso_id            102726 non-null  category\n",
      " 8   bairro              102726 non-null  int16   \n",
      " 9   prazo               102726 non-null  int8    \n",
      " 10  day_of_week         102726 non-null  int32   \n",
      " 11  month               102726 non-null  int32   \n",
      " 12  hour                102726 non-null  int32   \n",
      "dtypes: category(2), float64(4), int16(1), int32(3), int8(3)\n",
      "memory usage: 5.4 MB\n"
     ]
    }
   ],
   "source": [
    "df.info()"
   ]
  },
  {
   "cell_type": "markdown",
   "id": "2b996f8e-1b09-475e-8811-5267430184fe",
   "metadata": {},
   "source": [
    "##### Missing values"
   ]
  },
  {
   "cell_type": "code",
   "execution_count": 90,
   "id": "da2503df-64a5-46de-ab82-04679e27edcb",
   "metadata": {},
   "outputs": [
    {
     "data": {
      "text/html": [
       "<div>\n",
       "<style scoped>\n",
       "    .dataframe tbody tr th:only-of-type {\n",
       "        vertical-align: middle;\n",
       "    }\n",
       "\n",
       "    .dataframe tbody tr th {\n",
       "        vertical-align: top;\n",
       "    }\n",
       "\n",
       "    .dataframe thead th {\n",
       "        text-align: right;\n",
       "    }\n",
       "</style>\n",
       "<table border=\"1\" class=\"dataframe\">\n",
       "  <thead>\n",
       "    <tr style=\"text-align: right;\">\n",
       "      <th></th>\n",
       "      <th>NAN Values</th>\n",
       "    </tr>\n",
       "  </thead>\n",
       "  <tbody>\n",
       "    <tr>\n",
       "      <th>tipo</th>\n",
       "      <td>4</td>\n",
       "    </tr>\n",
       "    <tr>\n",
       "      <th>pop_id</th>\n",
       "      <td>4</td>\n",
       "    </tr>\n",
       "    <tr>\n",
       "      <th>latitude</th>\n",
       "      <td>11939</td>\n",
       "    </tr>\n",
       "    <tr>\n",
       "      <th>inicio</th>\n",
       "      <td>0</td>\n",
       "    </tr>\n",
       "    <tr>\n",
       "      <th>titulo</th>\n",
       "      <td>16</td>\n",
       "    </tr>\n",
       "    <tr>\n",
       "      <th>fim</th>\n",
       "      <td>0</td>\n",
       "    </tr>\n",
       "    <tr>\n",
       "      <th>aviso_id</th>\n",
       "      <td>36336</td>\n",
       "    </tr>\n",
       "    <tr>\n",
       "      <th>descricao</th>\n",
       "      <td>66</td>\n",
       "    </tr>\n",
       "    <tr>\n",
       "      <th>informe_id</th>\n",
       "      <td>6</td>\n",
       "    </tr>\n",
       "    <tr>\n",
       "      <th>gravidade</th>\n",
       "      <td>14</td>\n",
       "    </tr>\n",
       "    <tr>\n",
       "      <th>id</th>\n",
       "      <td>0</td>\n",
       "    </tr>\n",
       "    <tr>\n",
       "      <th>longitude</th>\n",
       "      <td>11915</td>\n",
       "    </tr>\n",
       "    <tr>\n",
       "      <th>status</th>\n",
       "      <td>0</td>\n",
       "    </tr>\n",
       "    <tr>\n",
       "      <th>bairro</th>\n",
       "      <td>41378</td>\n",
       "    </tr>\n",
       "    <tr>\n",
       "      <th>prazo</th>\n",
       "      <td>41280</td>\n",
       "    </tr>\n",
       "    <tr>\n",
       "      <th>pop_titulo</th>\n",
       "      <td>63</td>\n",
       "    </tr>\n",
       "  </tbody>\n",
       "</table>\n",
       "</div>"
      ],
      "text/plain": [
       "            NAN Values\n",
       "tipo                 4\n",
       "pop_id               4\n",
       "latitude         11939\n",
       "inicio               0\n",
       "titulo              16\n",
       "fim                  0\n",
       "aviso_id         36336\n",
       "descricao           66\n",
       "informe_id           6\n",
       "gravidade           14\n",
       "id                   0\n",
       "longitude        11915\n",
       "status               0\n",
       "bairro           41378\n",
       "prazo            41280\n",
       "pop_titulo          63"
      ]
     },
     "execution_count": 90,
     "metadata": {},
     "output_type": "execute_result"
    }
   ],
   "source": [
    "df.isna().sum().to_frame('NAN Values')"
   ]
  },
  {
   "cell_type": "code",
   "execution_count": 92,
   "id": "d7ce59ee-65cf-42f5-a6bd-57135c78672f",
   "metadata": {},
   "outputs": [
    {
     "data": {
      "text/html": [
       "<div>\n",
       "<style scoped>\n",
       "    .dataframe tbody tr th:only-of-type {\n",
       "        vertical-align: middle;\n",
       "    }\n",
       "\n",
       "    .dataframe tbody tr th {\n",
       "        vertical-align: top;\n",
       "    }\n",
       "\n",
       "    .dataframe thead th {\n",
       "        text-align: right;\n",
       "    }\n",
       "</style>\n",
       "<table border=\"1\" class=\"dataframe\">\n",
       "  <thead>\n",
       "    <tr style=\"text-align: right;\">\n",
       "      <th></th>\n",
       "      <th>tipo</th>\n",
       "      <th>pop_id</th>\n",
       "      <th>latitude</th>\n",
       "      <th>inicio</th>\n",
       "      <th>titulo</th>\n",
       "      <th>fim</th>\n",
       "      <th>aviso_id</th>\n",
       "      <th>descricao</th>\n",
       "      <th>informe_id</th>\n",
       "      <th>gravidade</th>\n",
       "      <th>id</th>\n",
       "      <th>longitude</th>\n",
       "      <th>status</th>\n",
       "      <th>bairro</th>\n",
       "      <th>prazo</th>\n",
       "      <th>pop_titulo</th>\n",
       "    </tr>\n",
       "  </thead>\n",
       "  <tbody>\n",
       "    <tr>\n",
       "      <th>Zero Values</th>\n",
       "      <td>0</td>\n",
       "      <td>16</td>\n",
       "      <td>0</td>\n",
       "      <td>0</td>\n",
       "      <td>0</td>\n",
       "      <td>0</td>\n",
       "      <td>58073</td>\n",
       "      <td>0</td>\n",
       "      <td>0</td>\n",
       "      <td>0</td>\n",
       "      <td>1</td>\n",
       "      <td>0</td>\n",
       "      <td>0</td>\n",
       "      <td>0</td>\n",
       "      <td>0</td>\n",
       "      <td>0</td>\n",
       "    </tr>\n",
       "  </tbody>\n",
       "</table>\n",
       "</div>"
      ],
      "text/plain": [
       "             tipo  pop_id  latitude  inicio  titulo  fim  aviso_id  descricao  \\\n",
       "Zero Values     0      16         0       0       0    0     58073          0   \n",
       "\n",
       "             informe_id  gravidade  id  longitude  status  bairro  prazo  \\\n",
       "Zero Values           0          0   1          0       0       0      0   \n",
       "\n",
       "             pop_titulo  \n",
       "Zero Values           0  "
      ]
     },
     "execution_count": 92,
     "metadata": {},
     "output_type": "execute_result"
    }
   ],
   "source": [
    "(df == 0).sum().to_frame('Zero Values').T"
   ]
  },
  {
   "cell_type": "markdown",
   "id": "3f6756d0-7277-4381-9213-ff99c405d270",
   "metadata": {},
   "source": [
    "##### Data type mapping"
   ]
  },
  {
   "cell_type": "code",
   "execution_count": 96,
   "id": "2cb333a1-6909-47ff-bb31-52cfd0895ecf",
   "metadata": {},
   "outputs": [
    {
     "data": {
      "text/plain": [
       "'\\nlatitude\\nlongitude\\nduration - engineered\\ndistance_to_center - engineered\\n'"
      ]
     },
     "execution_count": 96,
     "metadata": {},
     "output_type": "execute_result"
    }
   ],
   "source": [
    "# categorical variables\n",
    "'''\n",
    "tipo\n",
    "pop_id\n",
    "aviso_id\n",
    "informe_id - id\n",
    "gravidade\n",
    "id - id\n",
    "status - constant\n",
    "bairro \n",
    "prazo\n",
    "pop_titulo - redundant to pop_id\n",
    "day_of_week - engineered\n",
    "month - engineered\n",
    "hour - engineered\n",
    "'''\n",
    "# numerical variables\n",
    "'''\n",
    "latitude\n",
    "longitude\n",
    "duration - engineered\n",
    "distance_to_center - engineered\n",
    "'''"
   ]
  },
  {
   "cell_type": "markdown",
   "id": "b1618269-e6e1-4721-9c15-78dab558fc99",
   "metadata": {},
   "source": [
    "##### Data Preparation"
   ]
  },
  {
   "cell_type": "code",
   "execution_count": 97,
   "id": "ea81e29c-71fd-453a-825d-d0fd4dc74946",
   "metadata": {},
   "outputs": [
    {
     "name": "stdout",
     "output_type": "stream",
     "text": [
      "    latitude  longitude  duration  distance_to_center  gravidade  tipo pop_id  \\\n",
      "0 -22.918343 -43.291408    7548.0            0.117066          1     1    2.0   \n",
      "1 -22.918343 -43.291408    1114.0            0.117066          1     1    4.0   \n",
      "2 -22.918343 -43.291408    7114.0            0.117066          1     1    4.0   \n",
      "3 -22.918343 -43.291408    6600.0            0.117066          1     1    1.0   \n",
      "4 -22.918343 -43.291408    5083.0            0.117066          1     1    2.0   \n",
      "\n",
      "  aviso_id  bairro  prazo  day_of_week  month  hour  \n",
      "0      0.0     353      0            0      2    12  \n",
      "1      0.0     353      0            0      2    12  \n",
      "2      0.0     353      0            1      2    14  \n",
      "3      0.0     353      0            1      2    15  \n",
      "4      0.0     353      0            1      2    15  \n"
     ]
    }
   ],
   "source": [
    "# Drop rows with missing values for coordinates\n",
    "# df = df.dropna(subset=['latitude', 'longitude'])\n",
    "\n",
    "df['inicio'] = pd.to_datetime(df['inicio'])\n",
    "df['fim'] = pd.to_datetime(df['fim'])\n",
    "\n",
    "# Feature engineering ----------\n",
    "\n",
    "# Extract relevant temporal features\n",
    "df['day_of_week'] = df['inicio'].dt.dayofweek\n",
    "df['month'] = df['inicio'].dt.month\n",
    "df['hour'] = df['inicio'].dt.hour\n",
    "df['duration'] = (df['fim'] - df['inicio']).dt.total_seconds()\n",
    "\n",
    "# Feature engineering for geospatial data\n",
    "latitude_ref, longitude_ref = -22.9005252, -43.1987181\n",
    "df['distance_to_center'] = ((df['latitude'] - latitude_ref)**2 + (df['longitude'] - longitude_ref)**2)**0.5\n",
    "\n",
    "# Handling missing values --------\n",
    "\n",
    "# Filling missing values for numerical columns\n",
    "df['latitude'].fillna(df['latitude'].mean(), inplace=True)\n",
    "df['longitude'].fillna(df['longitude'].mean(), inplace=True)\n",
    "df['distance_to_center'].fillna(df['distance_to_center'].mean(), inplace=True)\n",
    "df['duration'].fillna(df['duration'].mean(), inplace=True)\n",
    "\n",
    "# Filling missing values for categorical columns (Except for the target variable)\n",
    "df['tipo'].fillna(df['prazo'].mode()[0], inplace=True)\n",
    "df['pop_id'].fillna(-1, inplace=True)\n",
    "df['aviso_id'].fillna(-1, inplace=True)\n",
    "df['bairro'].fillna('Unknown', inplace=True)\n",
    "df['prazo'].fillna(df['prazo'].mode()[0], inplace=True)\n",
    "# df['gravidade'].fillna(df['gravidade'].mode()[0], inplace=True) # target variable\n",
    "\n",
    "# Handling Categorical variables ---------\n",
    "\n",
    "# Convert categorical variables to 'category' data type\n",
    "# df['tipo'] = df['tipo'].astype('category')\n",
    "df['pop_id'] = df['pop_id'].astype('category') # from integer\n",
    "df['aviso_id'] = df['aviso_id'].astype('category') # from integer\n",
    "# df['bairro'] = df['tipo'].astype('category')\n",
    "# df['prazo'] = df['prazo'].astype('category')\n",
    "# df['gravidade'] = df['gravidade'].astype('category') # target variable\n",
    "\n",
    "# Encode string categorical variables into numerical format\n",
    "df['tipo'] = df['tipo'].astype('category').cat.codes\n",
    "df['bairro'] = df['bairro'].astype('category').cat.codes\n",
    "df['prazo'] = df['prazo'].astype('category').cat.codes\n",
    "df['gravidade'] = df['gravidade'].astype('category').cat.codes\n",
    "\n",
    "# Drop rows where target viariable is missing\n",
    "df.dropna(subset=['gravidade'], inplace=True)\n",
    "\n",
    "# Feature selection based on relevance (Excluding redundant variables)\n",
    "selected_features = ['latitude', 'longitude', 'duration', 'distance_to_center', 'gravidade', 'tipo', 'pop_id', 'aviso_id', 'bairro', 'prazo', 'day_of_week', 'month', 'hour']\n",
    "df = df[selected_features]  # Include the target variable in the selected features\n",
    "\n",
    "# Display the updated DataFrame\n",
    "print(df.head())"
   ]
  },
  {
   "cell_type": "markdown",
   "id": "8d78b778-a03a-4f67-8f0d-ae5e1c3b73a4",
   "metadata": {},
   "source": [
    "##### Fit regression models on the training data"
   ]
  },
  {
   "cell_type": "code",
   "execution_count": 98,
   "id": "ddde33fd-2803-4302-ab81-b6242a6b2b8b",
   "metadata": {},
   "outputs": [
    {
     "data": {
      "text/html": [
       "<style>#sk-container-id-1 {color: black;}#sk-container-id-1 pre{padding: 0;}#sk-container-id-1 div.sk-toggleable {background-color: white;}#sk-container-id-1 label.sk-toggleable__label {cursor: pointer;display: block;width: 100%;margin-bottom: 0;padding: 0.3em;box-sizing: border-box;text-align: center;}#sk-container-id-1 label.sk-toggleable__label-arrow:before {content: \"▸\";float: left;margin-right: 0.25em;color: #696969;}#sk-container-id-1 label.sk-toggleable__label-arrow:hover:before {color: black;}#sk-container-id-1 div.sk-estimator:hover label.sk-toggleable__label-arrow:before {color: black;}#sk-container-id-1 div.sk-toggleable__content {max-height: 0;max-width: 0;overflow: hidden;text-align: left;background-color: #f0f8ff;}#sk-container-id-1 div.sk-toggleable__content pre {margin: 0.2em;color: black;border-radius: 0.25em;background-color: #f0f8ff;}#sk-container-id-1 input.sk-toggleable__control:checked~div.sk-toggleable__content {max-height: 200px;max-width: 100%;overflow: auto;}#sk-container-id-1 input.sk-toggleable__control:checked~label.sk-toggleable__label-arrow:before {content: \"▾\";}#sk-container-id-1 div.sk-estimator input.sk-toggleable__control:checked~label.sk-toggleable__label {background-color: #d4ebff;}#sk-container-id-1 div.sk-label input.sk-toggleable__control:checked~label.sk-toggleable__label {background-color: #d4ebff;}#sk-container-id-1 input.sk-hidden--visually {border: 0;clip: rect(1px 1px 1px 1px);clip: rect(1px, 1px, 1px, 1px);height: 1px;margin: -1px;overflow: hidden;padding: 0;position: absolute;width: 1px;}#sk-container-id-1 div.sk-estimator {font-family: monospace;background-color: #f0f8ff;border: 1px dotted black;border-radius: 0.25em;box-sizing: border-box;margin-bottom: 0.5em;}#sk-container-id-1 div.sk-estimator:hover {background-color: #d4ebff;}#sk-container-id-1 div.sk-parallel-item::after {content: \"\";width: 100%;border-bottom: 1px solid gray;flex-grow: 1;}#sk-container-id-1 div.sk-label:hover label.sk-toggleable__label {background-color: #d4ebff;}#sk-container-id-1 div.sk-serial::before {content: \"\";position: absolute;border-left: 1px solid gray;box-sizing: border-box;top: 0;bottom: 0;left: 50%;z-index: 0;}#sk-container-id-1 div.sk-serial {display: flex;flex-direction: column;align-items: center;background-color: white;padding-right: 0.2em;padding-left: 0.2em;position: relative;}#sk-container-id-1 div.sk-item {position: relative;z-index: 1;}#sk-container-id-1 div.sk-parallel {display: flex;align-items: stretch;justify-content: center;background-color: white;position: relative;}#sk-container-id-1 div.sk-item::before, #sk-container-id-1 div.sk-parallel-item::before {content: \"\";position: absolute;border-left: 1px solid gray;box-sizing: border-box;top: 0;bottom: 0;left: 50%;z-index: -1;}#sk-container-id-1 div.sk-parallel-item {display: flex;flex-direction: column;z-index: 1;position: relative;background-color: white;}#sk-container-id-1 div.sk-parallel-item:first-child::after {align-self: flex-end;width: 50%;}#sk-container-id-1 div.sk-parallel-item:last-child::after {align-self: flex-start;width: 50%;}#sk-container-id-1 div.sk-parallel-item:only-child::after {width: 0;}#sk-container-id-1 div.sk-dashed-wrapped {border: 1px dashed gray;margin: 0 0.4em 0.5em 0.4em;box-sizing: border-box;padding-bottom: 0.4em;background-color: white;}#sk-container-id-1 div.sk-label label {font-family: monospace;font-weight: bold;display: inline-block;line-height: 1.2em;}#sk-container-id-1 div.sk-label-container {text-align: center;}#sk-container-id-1 div.sk-container {/* jupyter's `normalize.less` sets `[hidden] { display: none; }` but bootstrap.min.css set `[hidden] { display: none !important; }` so we also need the `!important` here to be able to override the default hidden behavior on the sphinx rendered scikit-learn.org. See: https://github.com/scikit-learn/scikit-learn/issues/21755 */display: inline-block !important;position: relative;}#sk-container-id-1 div.sk-text-repr-fallback {display: none;}</style><div id=\"sk-container-id-1\" class=\"sk-top-container\"><div class=\"sk-text-repr-fallback\"><pre>LinearRegression()</pre><b>In a Jupyter environment, please rerun this cell to show the HTML representation or trust the notebook. <br />On GitHub, the HTML representation is unable to render, please try loading this page with nbviewer.org.</b></div><div class=\"sk-container\" hidden><div class=\"sk-item\"><div class=\"sk-estimator sk-toggleable\"><input class=\"sk-toggleable__control sk-hidden--visually\" id=\"sk-estimator-id-1\" type=\"checkbox\" checked><label for=\"sk-estimator-id-1\" class=\"sk-toggleable__label sk-toggleable__label-arrow\">LinearRegression</label><div class=\"sk-toggleable__content\"><pre>LinearRegression()</pre></div></div></div></div></div>"
      ],
      "text/plain": [
       "LinearRegression()"
      ]
     },
     "execution_count": 98,
     "metadata": {},
     "output_type": "execute_result"
    }
   ],
   "source": [
    "import pandas as pd\n",
    "from sklearn.model_selection import train_test_split\n",
    "from sklearn.linear_model import LinearRegression, Ridge, Lasso\n",
    "from sklearn.preprocessing import PolynomialFeatures\n",
    "from sklearn.metrics import mean_squared_error, r2_score\n",
    "from sklearn.pipeline import make_pipeline\n",
    "\n",
    "# Assuming 'gravidade' is the target variable, and other relevant features are predictors\n",
    "X = df.drop(['gravidade'], axis=1)\n",
    "y = df['gravidade']\n",
    "\n",
    "# Split the data into training and testing sets\n",
    "X_train, X_test, y_train, y_test = train_test_split(X, y, test_size=0.2, random_state=42)\n",
    "\n",
    "# 1. Simple Linear Regression (Baseline Model)\n",
    "simple_model = LinearRegression()\n",
    "simple_model.fit(X_train, y_train)"
   ]
  },
  {
   "cell_type": "code",
   "execution_count": 99,
   "id": "d9f71fa5-8acf-43a9-97ad-cbf2ce2a1caf",
   "metadata": {},
   "outputs": [
    {
     "data": {
      "text/html": [
       "<style>#sk-container-id-2 {color: black;}#sk-container-id-2 pre{padding: 0;}#sk-container-id-2 div.sk-toggleable {background-color: white;}#sk-container-id-2 label.sk-toggleable__label {cursor: pointer;display: block;width: 100%;margin-bottom: 0;padding: 0.3em;box-sizing: border-box;text-align: center;}#sk-container-id-2 label.sk-toggleable__label-arrow:before {content: \"▸\";float: left;margin-right: 0.25em;color: #696969;}#sk-container-id-2 label.sk-toggleable__label-arrow:hover:before {color: black;}#sk-container-id-2 div.sk-estimator:hover label.sk-toggleable__label-arrow:before {color: black;}#sk-container-id-2 div.sk-toggleable__content {max-height: 0;max-width: 0;overflow: hidden;text-align: left;background-color: #f0f8ff;}#sk-container-id-2 div.sk-toggleable__content pre {margin: 0.2em;color: black;border-radius: 0.25em;background-color: #f0f8ff;}#sk-container-id-2 input.sk-toggleable__control:checked~div.sk-toggleable__content {max-height: 200px;max-width: 100%;overflow: auto;}#sk-container-id-2 input.sk-toggleable__control:checked~label.sk-toggleable__label-arrow:before {content: \"▾\";}#sk-container-id-2 div.sk-estimator input.sk-toggleable__control:checked~label.sk-toggleable__label {background-color: #d4ebff;}#sk-container-id-2 div.sk-label input.sk-toggleable__control:checked~label.sk-toggleable__label {background-color: #d4ebff;}#sk-container-id-2 input.sk-hidden--visually {border: 0;clip: rect(1px 1px 1px 1px);clip: rect(1px, 1px, 1px, 1px);height: 1px;margin: -1px;overflow: hidden;padding: 0;position: absolute;width: 1px;}#sk-container-id-2 div.sk-estimator {font-family: monospace;background-color: #f0f8ff;border: 1px dotted black;border-radius: 0.25em;box-sizing: border-box;margin-bottom: 0.5em;}#sk-container-id-2 div.sk-estimator:hover {background-color: #d4ebff;}#sk-container-id-2 div.sk-parallel-item::after {content: \"\";width: 100%;border-bottom: 1px solid gray;flex-grow: 1;}#sk-container-id-2 div.sk-label:hover label.sk-toggleable__label {background-color: #d4ebff;}#sk-container-id-2 div.sk-serial::before {content: \"\";position: absolute;border-left: 1px solid gray;box-sizing: border-box;top: 0;bottom: 0;left: 50%;z-index: 0;}#sk-container-id-2 div.sk-serial {display: flex;flex-direction: column;align-items: center;background-color: white;padding-right: 0.2em;padding-left: 0.2em;position: relative;}#sk-container-id-2 div.sk-item {position: relative;z-index: 1;}#sk-container-id-2 div.sk-parallel {display: flex;align-items: stretch;justify-content: center;background-color: white;position: relative;}#sk-container-id-2 div.sk-item::before, #sk-container-id-2 div.sk-parallel-item::before {content: \"\";position: absolute;border-left: 1px solid gray;box-sizing: border-box;top: 0;bottom: 0;left: 50%;z-index: -1;}#sk-container-id-2 div.sk-parallel-item {display: flex;flex-direction: column;z-index: 1;position: relative;background-color: white;}#sk-container-id-2 div.sk-parallel-item:first-child::after {align-self: flex-end;width: 50%;}#sk-container-id-2 div.sk-parallel-item:last-child::after {align-self: flex-start;width: 50%;}#sk-container-id-2 div.sk-parallel-item:only-child::after {width: 0;}#sk-container-id-2 div.sk-dashed-wrapped {border: 1px dashed gray;margin: 0 0.4em 0.5em 0.4em;box-sizing: border-box;padding-bottom: 0.4em;background-color: white;}#sk-container-id-2 div.sk-label label {font-family: monospace;font-weight: bold;display: inline-block;line-height: 1.2em;}#sk-container-id-2 div.sk-label-container {text-align: center;}#sk-container-id-2 div.sk-container {/* jupyter's `normalize.less` sets `[hidden] { display: none; }` but bootstrap.min.css set `[hidden] { display: none !important; }` so we also need the `!important` here to be able to override the default hidden behavior on the sphinx rendered scikit-learn.org. See: https://github.com/scikit-learn/scikit-learn/issues/21755 */display: inline-block !important;position: relative;}#sk-container-id-2 div.sk-text-repr-fallback {display: none;}</style><div id=\"sk-container-id-2\" class=\"sk-top-container\"><div class=\"sk-text-repr-fallback\"><pre>Pipeline(steps=[(&#x27;polynomialfeatures&#x27;, PolynomialFeatures()),\n",
       "                (&#x27;linearregression&#x27;, LinearRegression())])</pre><b>In a Jupyter environment, please rerun this cell to show the HTML representation or trust the notebook. <br />On GitHub, the HTML representation is unable to render, please try loading this page with nbviewer.org.</b></div><div class=\"sk-container\" hidden><div class=\"sk-item sk-dashed-wrapped\"><div class=\"sk-label-container\"><div class=\"sk-label sk-toggleable\"><input class=\"sk-toggleable__control sk-hidden--visually\" id=\"sk-estimator-id-2\" type=\"checkbox\" ><label for=\"sk-estimator-id-2\" class=\"sk-toggleable__label sk-toggleable__label-arrow\">Pipeline</label><div class=\"sk-toggleable__content\"><pre>Pipeline(steps=[(&#x27;polynomialfeatures&#x27;, PolynomialFeatures()),\n",
       "                (&#x27;linearregression&#x27;, LinearRegression())])</pre></div></div></div><div class=\"sk-serial\"><div class=\"sk-item\"><div class=\"sk-estimator sk-toggleable\"><input class=\"sk-toggleable__control sk-hidden--visually\" id=\"sk-estimator-id-3\" type=\"checkbox\" ><label for=\"sk-estimator-id-3\" class=\"sk-toggleable__label sk-toggleable__label-arrow\">PolynomialFeatures</label><div class=\"sk-toggleable__content\"><pre>PolynomialFeatures()</pre></div></div></div><div class=\"sk-item\"><div class=\"sk-estimator sk-toggleable\"><input class=\"sk-toggleable__control sk-hidden--visually\" id=\"sk-estimator-id-4\" type=\"checkbox\" ><label for=\"sk-estimator-id-4\" class=\"sk-toggleable__label sk-toggleable__label-arrow\">LinearRegression</label><div class=\"sk-toggleable__content\"><pre>LinearRegression()</pre></div></div></div></div></div></div></div>"
      ],
      "text/plain": [
       "Pipeline(steps=[('polynomialfeatures', PolynomialFeatures()),\n",
       "                ('linearregression', LinearRegression())])"
      ]
     },
     "execution_count": 99,
     "metadata": {},
     "output_type": "execute_result"
    }
   ],
   "source": [
    "# 2. Polynomial Regression (Non-linear Effects)\n",
    "poly_model = make_pipeline(PolynomialFeatures(degree=2), LinearRegression())\n",
    "poly_model.fit(X_train, y_train)"
   ]
  },
  {
   "cell_type": "code",
   "execution_count": 100,
   "id": "11048218-b0ba-4edc-b2ba-8832279f0929",
   "metadata": {},
   "outputs": [
    {
     "data": {
      "text/html": [
       "<style>#sk-container-id-3 {color: black;}#sk-container-id-3 pre{padding: 0;}#sk-container-id-3 div.sk-toggleable {background-color: white;}#sk-container-id-3 label.sk-toggleable__label {cursor: pointer;display: block;width: 100%;margin-bottom: 0;padding: 0.3em;box-sizing: border-box;text-align: center;}#sk-container-id-3 label.sk-toggleable__label-arrow:before {content: \"▸\";float: left;margin-right: 0.25em;color: #696969;}#sk-container-id-3 label.sk-toggleable__label-arrow:hover:before {color: black;}#sk-container-id-3 div.sk-estimator:hover label.sk-toggleable__label-arrow:before {color: black;}#sk-container-id-3 div.sk-toggleable__content {max-height: 0;max-width: 0;overflow: hidden;text-align: left;background-color: #f0f8ff;}#sk-container-id-3 div.sk-toggleable__content pre {margin: 0.2em;color: black;border-radius: 0.25em;background-color: #f0f8ff;}#sk-container-id-3 input.sk-toggleable__control:checked~div.sk-toggleable__content {max-height: 200px;max-width: 100%;overflow: auto;}#sk-container-id-3 input.sk-toggleable__control:checked~label.sk-toggleable__label-arrow:before {content: \"▾\";}#sk-container-id-3 div.sk-estimator input.sk-toggleable__control:checked~label.sk-toggleable__label {background-color: #d4ebff;}#sk-container-id-3 div.sk-label input.sk-toggleable__control:checked~label.sk-toggleable__label {background-color: #d4ebff;}#sk-container-id-3 input.sk-hidden--visually {border: 0;clip: rect(1px 1px 1px 1px);clip: rect(1px, 1px, 1px, 1px);height: 1px;margin: -1px;overflow: hidden;padding: 0;position: absolute;width: 1px;}#sk-container-id-3 div.sk-estimator {font-family: monospace;background-color: #f0f8ff;border: 1px dotted black;border-radius: 0.25em;box-sizing: border-box;margin-bottom: 0.5em;}#sk-container-id-3 div.sk-estimator:hover {background-color: #d4ebff;}#sk-container-id-3 div.sk-parallel-item::after {content: \"\";width: 100%;border-bottom: 1px solid gray;flex-grow: 1;}#sk-container-id-3 div.sk-label:hover label.sk-toggleable__label {background-color: #d4ebff;}#sk-container-id-3 div.sk-serial::before {content: \"\";position: absolute;border-left: 1px solid gray;box-sizing: border-box;top: 0;bottom: 0;left: 50%;z-index: 0;}#sk-container-id-3 div.sk-serial {display: flex;flex-direction: column;align-items: center;background-color: white;padding-right: 0.2em;padding-left: 0.2em;position: relative;}#sk-container-id-3 div.sk-item {position: relative;z-index: 1;}#sk-container-id-3 div.sk-parallel {display: flex;align-items: stretch;justify-content: center;background-color: white;position: relative;}#sk-container-id-3 div.sk-item::before, #sk-container-id-3 div.sk-parallel-item::before {content: \"\";position: absolute;border-left: 1px solid gray;box-sizing: border-box;top: 0;bottom: 0;left: 50%;z-index: -1;}#sk-container-id-3 div.sk-parallel-item {display: flex;flex-direction: column;z-index: 1;position: relative;background-color: white;}#sk-container-id-3 div.sk-parallel-item:first-child::after {align-self: flex-end;width: 50%;}#sk-container-id-3 div.sk-parallel-item:last-child::after {align-self: flex-start;width: 50%;}#sk-container-id-3 div.sk-parallel-item:only-child::after {width: 0;}#sk-container-id-3 div.sk-dashed-wrapped {border: 1px dashed gray;margin: 0 0.4em 0.5em 0.4em;box-sizing: border-box;padding-bottom: 0.4em;background-color: white;}#sk-container-id-3 div.sk-label label {font-family: monospace;font-weight: bold;display: inline-block;line-height: 1.2em;}#sk-container-id-3 div.sk-label-container {text-align: center;}#sk-container-id-3 div.sk-container {/* jupyter's `normalize.less` sets `[hidden] { display: none; }` but bootstrap.min.css set `[hidden] { display: none !important; }` so we also need the `!important` here to be able to override the default hidden behavior on the sphinx rendered scikit-learn.org. See: https://github.com/scikit-learn/scikit-learn/issues/21755 */display: inline-block !important;position: relative;}#sk-container-id-3 div.sk-text-repr-fallback {display: none;}</style><div id=\"sk-container-id-3\" class=\"sk-top-container\"><div class=\"sk-text-repr-fallback\"><pre>Lasso(alpha=0.01)</pre><b>In a Jupyter environment, please rerun this cell to show the HTML representation or trust the notebook. <br />On GitHub, the HTML representation is unable to render, please try loading this page with nbviewer.org.</b></div><div class=\"sk-container\" hidden><div class=\"sk-item\"><div class=\"sk-estimator sk-toggleable\"><input class=\"sk-toggleable__control sk-hidden--visually\" id=\"sk-estimator-id-5\" type=\"checkbox\" checked><label for=\"sk-estimator-id-5\" class=\"sk-toggleable__label sk-toggleable__label-arrow\">Lasso</label><div class=\"sk-toggleable__content\"><pre>Lasso(alpha=0.01)</pre></div></div></div></div></div>"
      ],
      "text/plain": [
       "Lasso(alpha=0.01)"
      ]
     },
     "execution_count": 100,
     "metadata": {},
     "output_type": "execute_result"
    }
   ],
   "source": [
    "# 3. Regularized Regression (Lasso Regression)\n",
    "lasso_model = Lasso(alpha=0.01)  # Adjust alpha for regularization strength\n",
    "lasso_model.fit(X_train, y_train)"
   ]
  },
  {
   "cell_type": "markdown",
   "id": "88d955a7-bcf1-4d4b-aaf9-48409660a62d",
   "metadata": {},
   "source": [
    "##### Evaluate models' predictions on the test data"
   ]
  },
  {
   "cell_type": "code",
   "execution_count": 101,
   "id": "673f367a-3771-4cc4-9141-53fcc166d772",
   "metadata": {},
   "outputs": [
    {
     "name": "stdout",
     "output_type": "stream",
     "text": [
      "**Results of Training Three Linear Regression Models:**\n",
      "\n",
      "1. Simple Linear Regression (Baseline Model):\n",
      "Coefficients: [ 3.25792891e-02  3.89117175e-01  6.44087821e-08  2.71994965e-01\n",
      " -1.36426935e-01  2.17265623e-03  1.14163703e-06 -7.85828896e-05\n",
      "  3.65065963e-02 -7.97387473e-03 -2.83566924e-03 -9.82238400e-04]\n",
      "Intercept: 18.868882570252648\n",
      "Mean Squared Error (MSE): 0.2195502672371177\n",
      "R-squared: 0.005581851167200114\n",
      "\n",
      "2. Polynomial Regression (Non-linear Effects):\n",
      "Mean Squared Error (MSE): 0.2201560392249258\n",
      "R-squared: 0.0028381029298987226\n",
      "\n",
      "3. Regularized Regression (Lasso Regression):\n",
      "Coefficients after Regularization: [ 0.00000000e+00  0.00000000e+00 -5.45429613e-09 -0.00000000e+00\n",
      " -0.00000000e+00  2.11496329e-03  1.17887300e-06 -6.81035133e-05\n",
      "  0.00000000e+00 -5.10791725e-03 -2.01050048e-03 -5.85253565e-04]\n",
      "Mean Squared Error (MSE): 0.22005287026309325\n",
      "R-squared: 0.00330539039592459\n",
      "\n"
     ]
    }
   ],
   "source": [
    "# Evaluate the models on the test set\n",
    "simple_predictions = simple_model.predict(X_test)\n",
    "poly_predictions = poly_model.predict(X_test)\n",
    "lasso_predictions = lasso_model.predict(X_test)\n",
    "\n",
    "# Calculate evaluation metrics\n",
    "simple_mse = mean_squared_error(y_test, simple_predictions)\n",
    "poly_mse = mean_squared_error(y_test, poly_predictions)\n",
    "lasso_mse = mean_squared_error(y_test, lasso_predictions)\n",
    "\n",
    "simple_r2 = r2_score(y_test, simple_predictions)\n",
    "poly_r2 = r2_score(y_test, poly_predictions)\n",
    "lasso_r2 = r2_score(y_test, lasso_predictions)\n",
    "\n",
    "# Print results\n",
    "print(\"**Results of Training Three Linear Regression Models:**\\n\")\n",
    "\n",
    "# 1. Simple Linear Regression\n",
    "print(\"1. Simple Linear Regression (Baseline Model):\")\n",
    "print(f\"Coefficients: {simple_model.coef_}\")\n",
    "print(f\"Intercept: {simple_model.intercept_}\")\n",
    "print(f\"Mean Squared Error (MSE): {simple_mse}\")\n",
    "print(f\"R-squared: {simple_r2}\\n\")\n",
    "\n",
    "# 2. Polynomial Regression\n",
    "print(\"2. Polynomial Regression (Non-linear Effects):\")\n",
    "print(f\"Mean Squared Error (MSE): {poly_mse}\")\n",
    "print(f\"R-squared: {poly_r2}\\n\")\n",
    "\n",
    "# 3. Regularized Regression (Lasso Regression)\n",
    "print(\"3. Regularized Regression (Lasso Regression):\")\n",
    "print(f\"Coefficients after Regularization: {lasso_model.coef_}\")\n",
    "print(f\"Mean Squared Error (MSE): {lasso_mse}\")\n",
    "print(f\"R-squared: {lasso_r2}\\n\")"
   ]
  },
  {
   "cell_type": "markdown",
   "id": "05a86289-a406-493f-8252-0abd9ea0e0c5",
   "metadata": {},
   "source": [
    "##### Classification metrics"
   ]
  },
  {
   "cell_type": "code",
   "execution_count": 104,
   "id": "77ff1049-ef38-4280-baf8-310ec344c3d7",
   "metadata": {},
   "outputs": [
    {
     "name": "stdout",
     "output_type": "stream",
     "text": [
      "**Results of Training Three Linear Regression Models (Classification Metrics):**\n",
      "\n",
      "1. Simple Linear Regression (Baseline Model):\n",
      "Accuracy: 0.9406697167331841\n",
      "Precision: 0.8848595159788888\n",
      "Recall: 0.9406697167331841\n",
      "F1 Score: 0.9119114997769041\n",
      "Confusion Matrix:\n",
      "[[    0     0     3     0     0     0]\n",
      " [    0     0    46     0     0     0]\n",
      " [    0     0 19327     0     0     0]\n",
      " [    0     0     5     0     0     0]\n",
      " [    0     0  1151     0     0     0]\n",
      " [    0     0    14     0     0     0]]\n",
      "\n",
      "2. Polynomial Regression (Non-linear Effects):\n",
      "Accuracy: 0.9389662221356955\n",
      "Precision: 0.8850231736267538\n",
      "Recall: 0.9389662221356955\n",
      "F1 Score: 0.9111970363133454\n",
      "Confusion Matrix:\n",
      "[[    0     0     3     0     0     0]\n",
      " [    0     0    44     2     0     0]\n",
      " [    0     2 19292    32     0     1]\n",
      " [    0     0     5     0     0     0]\n",
      " [    0     0  1147     4     0     0]\n",
      " [    0     0    14     0     0     0]]\n",
      "\n",
      "3. Regularized Regression (Lasso Regression):\n",
      "Accuracy: 0.9406697167331841\n",
      "Precision: 0.8848595159788888\n",
      "Recall: 0.9406697167331841\n",
      "F1 Score: 0.9119114997769041\n",
      "Confusion Matrix:\n",
      "[[    0     0     3     0     0     0]\n",
      " [    0     0    46     0     0     0]\n",
      " [    0     0 19327     0     0     0]\n",
      " [    0     0     5     0     0     0]\n",
      " [    0     0  1151     0     0     0]\n",
      " [    0     0    14     0     0     0]]\n",
      "\n"
     ]
    },
    {
     "name": "stderr",
     "output_type": "stream",
     "text": [
      "C:\\Users\\luisr\\anaconda3\\Lib\\site-packages\\sklearn\\metrics\\_classification.py:1469: UndefinedMetricWarning: Precision is ill-defined and being set to 0.0 in labels with no predicted samples. Use `zero_division` parameter to control this behavior.\n",
      "  _warn_prf(average, modifier, msg_start, len(result))\n",
      "C:\\Users\\luisr\\anaconda3\\Lib\\site-packages\\sklearn\\metrics\\_classification.py:1469: UndefinedMetricWarning: Precision is ill-defined and being set to 0.0 in labels with no predicted samples. Use `zero_division` parameter to control this behavior.\n",
      "  _warn_prf(average, modifier, msg_start, len(result))\n",
      "C:\\Users\\luisr\\anaconda3\\Lib\\site-packages\\sklearn\\metrics\\_classification.py:1469: UndefinedMetricWarning: Precision is ill-defined and being set to 0.0 in labels with no predicted samples. Use `zero_division` parameter to control this behavior.\n",
      "  _warn_prf(average, modifier, msg_start, len(result))\n"
     ]
    }
   ],
   "source": [
    "from sklearn.metrics import accuracy_score, precision_score, recall_score, f1_score, confusion_matrix\n",
    "\n",
    "# Round predictions for classification\n",
    "simple_class_predictions = simple_predictions.round().astype(int)\n",
    "poly_class_predictions = poly_predictions.round().astype(int)\n",
    "lasso_class_predictions = lasso_predictions.round().astype(int)\n",
    "\n",
    "# Evaluate classification metrics\n",
    "simple_accuracy = accuracy_score(y_test, simple_class_predictions)\n",
    "poly_accuracy = accuracy_score(y_test, poly_class_predictions)\n",
    "lasso_accuracy = accuracy_score(y_test, lasso_class_predictions)\n",
    "\n",
    "# In multiclass classification, precision, recall, and f1_score can be calculated per class (average='weighted' is common)\n",
    "simple_precision = precision_score(y_test, simple_class_predictions, average='weighted')\n",
    "poly_precision = precision_score(y_test, poly_class_predictions, average='weighted')\n",
    "lasso_precision = precision_score(y_test, lasso_class_predictions, average='weighted')\n",
    "\n",
    "simple_recall = recall_score(y_test, simple_class_predictions, average='weighted')\n",
    "poly_recall = recall_score(y_test, poly_class_predictions, average='weighted')\n",
    "lasso_recall = recall_score(y_test, lasso_class_predictions, average='weighted')\n",
    "\n",
    "simple_f1 = f1_score(y_test, simple_class_predictions, average='weighted')\n",
    "poly_f1 = f1_score(y_test, poly_class_predictions, average='weighted')\n",
    "lasso_f1 = f1_score(y_test, lasso_class_predictions, average='weighted')\n",
    "\n",
    "# Confusion matrices\n",
    "simple_conf_matrix = confusion_matrix(y_test, simple_class_predictions)\n",
    "poly_conf_matrix = confusion_matrix(y_test, poly_class_predictions)\n",
    "lasso_conf_matrix = confusion_matrix(y_test, lasso_class_predictions)\n",
    "\n",
    "# Print classification results\n",
    "print(\"**Results of Training Three Linear Regression Models (Classification Metrics):**\\n\")\n",
    "\n",
    "# 1. Simple Linear Regression\n",
    "print(\"1. Simple Linear Regression (Baseline Model):\")\n",
    "print(f\"Accuracy: {simple_accuracy}\")\n",
    "print(f\"Precision: {simple_precision}\")\n",
    "print(f\"Recall: {simple_recall}\")\n",
    "print(f\"F1 Score: {simple_f1}\")\n",
    "print(f\"Confusion Matrix:\\n{simple_conf_matrix}\\n\")\n",
    "\n",
    "# 2. Polynomial Regression\n",
    "print(\"2. Polynomial Regression (Non-linear Effects):\")\n",
    "print(f\"Accuracy: {poly_accuracy}\")\n",
    "print(f\"Precision: {poly_precision}\")\n",
    "print(f\"Recall: {poly_recall}\")\n",
    "print(f\"F1 Score: {poly_f1}\")\n",
    "print(f\"Confusion Matrix:\\n{poly_conf_matrix}\\n\")\n",
    "\n",
    "# 3. Regularized Regression (Lasso Regression)\n",
    "print(\"3. Regularized Regression (Lasso Regression):\")\n",
    "print(f\"Accuracy: {lasso_accuracy}\")\n",
    "print(f\"Precision: {lasso_precision}\")\n",
    "print(f\"Recall: {lasso_recall}\")\n",
    "print(f\"F1 Score: {lasso_f1}\")\n",
    "print(f\"Confusion Matrix:\\n{lasso_conf_matrix}\\n\")\n"
   ]
  }
 ],
 "metadata": {
  "kernelspec": {
   "display_name": "Python 3 (ipykernel)",
   "language": "python",
   "name": "python3"
  },
  "language_info": {
   "codemirror_mode": {
    "name": "ipython",
    "version": 3
   },
   "file_extension": ".py",
   "mimetype": "text/x-python",
   "name": "python",
   "nbconvert_exporter": "python",
   "pygments_lexer": "ipython3",
   "version": "3.11.3"
  }
 },
 "nbformat": 4,
 "nbformat_minor": 5
}
