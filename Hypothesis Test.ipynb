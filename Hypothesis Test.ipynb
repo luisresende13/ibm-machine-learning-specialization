{
 "cells": [
  {
   "cell_type": "markdown",
   "id": "37a6807c-20e5-492e-a7f9-697c41e829c1",
   "metadata": {},
   "source": [
    "## Teste de Hipótese - Sistema Comando Histórico"
   ]
  },
  {
   "cell_type": "code",
   "execution_count": 9,
   "id": "457c536b-60b4-4a0d-a3b4-0fc9b640f75d",
   "metadata": {},
   "outputs": [
    {
     "name": "stderr",
     "output_type": "stream",
     "text": [
      "C:\\Users\\luisr\\AppData\\Local\\Temp\\ipykernel_21064\\126287567.py:4: DtypeWarning: Columns (13,14) have mixed types. Specify dtype option on import or set low_memory=False.\n",
      "  df = pd.read_csv('../Dados/Sistema Comando/comando_history_apiv2_clean.csv')\n"
     ]
    },
    {
     "name": "stdout",
     "output_type": "stream",
     "text": [
      "Chi-Square Statistic: 860.8245625500651\n",
      "P-value: 1.5254079496982483e-93\n",
      "The null hypothesis is rejected. There is a significant relationship between event types and temporal factors.\n"
     ]
    }
   ],
   "source": [
    "import pandas as pd\n",
    "from scipy.stats import chi2_contingency\n",
    "\n",
    "# Load the dataset\n",
    "df = pd.read_csv('../Dados/Sistema Comando/comando_history_apiv2_clean.csv')\n",
    "\n",
    "# Assuming you have a DataFrame named 'df' with columns 'tipo' (Type) and 'inicio' (Start)\n",
    "# Make sure 'inicio' is in datetime format\n",
    "df['inicio'] = pd.to_datetime(df['inicio'])\n",
    "\n",
    "# Extract temporal features: day of the week and month\n",
    "df['day_of_week'] = df['inicio'].dt.dayofweek\n",
    "df['month'] = df['inicio'].dt.month\n",
    "\n",
    "# Create a contingency table\n",
    "contingency_table = pd.crosstab(df['tipo'], [df['day_of_week'], df['month']], margins=True)\n",
    "\n",
    "# Perform chi-square test\n",
    "chi2, p_value, _, _ = chi2_contingency(contingency_table)\n",
    "\n",
    "# Set the significance level\n",
    "alpha = 0.05\n",
    "\n",
    "# Print the results\n",
    "print(f\"Chi-Square Statistic: {chi2}\")\n",
    "print(f\"P-value: {p_value}\")\n",
    "\n",
    "# Check for significance\n",
    "if p_value < alpha:\n",
    "    print(\"The null hypothesis is rejected. There is a significant relationship between event types and temporal factors.\")\n",
    "else:\n",
    "    print(\"The null hypothesis is not rejected. Temporal factors may not significantly influence event types.\")\n"
   ]
  }
 ],
 "metadata": {
  "kernelspec": {
   "display_name": "Python 3 (ipykernel)",
   "language": "python",
   "name": "python3"
  },
  "language_info": {
   "codemirror_mode": {
    "name": "ipython",
    "version": 3
   },
   "file_extension": ".py",
   "mimetype": "text/x-python",
   "name": "python",
   "nbconvert_exporter": "python",
   "pygments_lexer": "ipython3",
   "version": "3.11.3"
  }
 },
 "nbformat": 4,
 "nbformat_minor": 5
}
